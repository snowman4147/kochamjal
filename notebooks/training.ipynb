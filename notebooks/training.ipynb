{
 "cells": [
  {
   "cell_type": "code",
   "id": "initial_id",
   "metadata": {
    "collapsed": true,
    "ExecuteTime": {
     "end_time": "2024-05-31T14:27:51.149761Z",
     "start_time": "2024-05-31T14:27:50.491115Z"
    }
   },
   "source": [
    "import os\n",
    "import pandas as pd\n",
    "from nptdms import TdmsFile\n",
    "from sklearn.preprocessing import MinMaxScaler\n",
    "from src.utils import preprocess_logger"
   ],
   "execution_count": 1,
   "outputs": []
  },
  {
   "metadata": {
    "ExecuteTime": {
     "end_time": "2024-05-31T14:28:24.593564Z",
     "start_time": "2024-05-31T14:27:51.150771Z"
    }
   },
   "cell_type": "code",
   "source": [
    "root_dir = '../data'\n",
    "all_data = {}\n",
    "labels = []\n",
    "file_id = 0\n",
    "for folder in sorted(os.listdir(root_dir)):\n",
    "    folder_path = os.path.join(root_dir, folder)\n",
    "    if os.path.isdir(folder_path):\n",
    "        for file in sorted(os.listdir(folder_path)):\n",
    "            if file.endswith('.tdms'):\n",
    "                file_id += 1\n",
    "                file_path = os.path.join(folder_path, file)\n",
    "                preprocess_logger.info(f\"Reading file: {file_path}\")\n",
    "                tdms_file = TdmsFile.read(file_path)\n",
    "                \n",
    "                data_dict = {}\n",
    "                for channel in tdms_file.groups()[0].channels():\n",
    "                    channel_name = channel.name\n",
    "                    data_dict[channel_name] = channel[:]\n",
    "                data = pd.DataFrame(data=data_dict)\n",
    "                preprocess_logger.info(f\"{file}: data to df.\")\n",
    "                \n",
    "                label = file_id\n",
    "                \n",
    "                num_missing_before = data.isnull().sum().sum()\n",
    "                data.dropna(inplace=True)\n",
    "                num_missing_after = data.isnull().sum().sum()\n",
    "                preprocess_logger.info(f\"{num_missing_before} Null found, {num_missing_after} remaining after dropping rows.\")\n",
    "                \n",
    "                string_columns = data.select_dtypes(include=['object']).columns\n",
    "                preprocess_logger.info(f\"Dropping string columns: {list(string_columns)}\")\n",
    "                data = data.drop(columns=string_columns)\n",
    "                \n",
    "                if 'Time Channel CNC' in data.columns:\n",
    "                    preprocess_logger.info(f\"Creating time-related features from 'Time Channel CNC'\")\n",
    "                    data['Time Channel CNC'] = pd.to_datetime(data['Time Channel CNC'])\n",
    "                    data['year'] = data['Time Channel CNC'].dt.year\n",
    "                    data['month'] = data['Time Channel CNC'].dt.month\n",
    "                    data['day'] = data['Time Channel CNC'].dt.day\n",
    "                    data['hour'] = data['Time Channel CNC'].dt.hour\n",
    "                    data['minute'] = data['Time Channel CNC'].dt.minute\n",
    "                    data['second'] = data['Time Channel CNC'].dt.second\n",
    "                    data['millisecond'] = data['Time Channel CNC'].dt.microsecond\n",
    "                    data = data.drop(columns=['Time Channel CNC'])\n",
    "                    \n",
    "                preprocess_logger.info(f\"Normalizing data\")\n",
    "                scaler = MinMaxScaler()\n",
    "                scaled_data = scaler.fit_transform(data)\n",
    "                scaled_data = pd.DataFrame(data=scaled_data, columns=data.columns)\n",
    "                preprocess_logger.info(f\"Data normalization completed.\")\n",
    "                all_data[label] = scaled_data\n",
    "                labels.append(label)\n",
    "                preprocess_logger.info(f\"df stored with label {label}\")\n",
    "preprocess_logger.info(\"All files processed.\")"
   ],
   "id": "b05c48789c12fb01",
   "execution_count": 2,
   "outputs": []
  },
  {
   "metadata": {
    "ExecuteTime": {
     "end_time": "2024-05-31T14:28:24.627491Z",
     "start_time": "2024-05-31T14:28:24.594563Z"
    }
   },
   "cell_type": "code",
   "source": "all_data[1].describe()",
   "id": "d1fe0a552dcfa5b0",
   "execution_count": 3,
   "outputs": []
  },
  {
   "metadata": {
    "ExecuteTime": {
     "end_time": "2024-05-31T14:28:26.131157Z",
     "start_time": "2024-05-31T14:28:24.627491Z"
    }
   },
   "cell_type": "code",
   "source": [
    "import torch\n",
    "import torch.nn as nn\n",
    "import torch.optim as optim\n",
    "from torch.utils.data import DataLoader\n",
    "from torch.cuda.amp import autocast, GradScaler\n",
    "from sklearn.model_selection import TimeSeriesSplit\n",
    "from models.model import LSTMModel\n",
    "from models.dataset import CNCDataset\n",
    "import torch.backends.cudnn as cudnn\n",
    "import matplotlib.pyplot as plt"
   ],
   "id": "cce042ac3fb11dee",
   "execution_count": 4,
   "outputs": []
  },
  {
   "metadata": {
    "ExecuteTime": {
     "end_time": "2024-05-31T14:28:26.282817Z",
     "start_time": "2024-05-31T14:28:26.132163Z"
    }
   },
   "cell_type": "code",
   "source": [
    "device = torch.device(\"cuda\" if torch.cuda.is_available() else \"cpu\")\n",
    "input_size = next(iter(all_data.values())).shape[1]\n",
    "hidden_size = 64\n",
    "output_size = 2\n",
    "num_layers = 3\n",
    "dropout = 0.7\n",
    "seq_length = 60\n",
    "batch_size = 1024\n",
    "num_epochs = 20\n",
    "target_columns = [3, 5]\n",
    "cudnn.benchmark = True\n",
    "model = LSTMModel(input_size, hidden_size, output_size, num_layers, dropout)\n",
    "model = nn.DataParallel(model.to(device))"
   ],
   "id": "7df57b307e619143",
   "execution_count": 5,
   "outputs": []
  },
  {
   "metadata": {
    "ExecuteTime": {
     "end_time": "2024-05-31T14:28:26.799420Z",
     "start_time": "2024-05-31T14:28:26.282817Z"
    }
   },
   "cell_type": "code",
   "source": [
    "criterion = nn.MSELoss()\n",
    "optimizer = optim.Adam(model.parameters(), lr=0.00005, weight_decay=1e-5)\n",
    "scaler = GradScaler()\n",
    "scheduler = torch.optim.lr_scheduler.ReduceLROnPlateau(optimizer, 'min', patience=3, factor=0.2)\n",
    "train_losses = []\n",
    "val_losses = []\n",
    "tscv = TimeSeriesSplit(n_splits=5)"
   ],
   "id": "347bd32b259b929e",
   "execution_count": 6,
   "outputs": []
  },
  {
   "metadata": {
    "ExecuteTime": {
     "end_time": "2024-05-31T14:29:27.464180Z",
     "start_time": "2024-05-31T14:28:26.799420Z"
    }
   },
   "cell_type": "code",
   "source": [
    "for label, data in all_data.items():\n",
    "    for fold, (train_index, val_index) in enumerate(tscv.split(data)):\n",
    "        train_data = data.iloc[train_index]\n",
    "        val_data = data.iloc[val_index]\n",
    "        \n",
    "        train_dataset = CNCDataset(train_data.values, seq_length, target_columns, augment=True)\n",
    "        val_dataset = CNCDataset(val_data.values, seq_length, target_columns, augment=False)\n",
    "        \n",
    "        train_loader = DataLoader(train_dataset, batch_size=batch_size, shuffle=True, num_workers=4, pin_memory=True, prefetch_factor=2, persistent_workers=True)\n",
    "        val_loader = DataLoader(val_dataset, batch_size=batch_size, shuffle=False, num_workers=4, pin_memory=True, prefetch_factor=2, persistent_workers=True)\n",
    "\n",
    "        for epoch in range(num_epochs):\n",
    "            model.train()\n",
    "            running_loss = 0.0\n",
    "            for inputs, targets in train_loader:\n",
    "                inputs, targets = inputs.to(device, non_blocking=True), targets.to(device, non_blocking=True)\n",
    "                optimizer.zero_grad()\n",
    "                \n",
    "                with autocast():\n",
    "                    outputs = model(inputs)\n",
    "                    loss = criterion(outputs, targets)\n",
    "                \n",
    "                scaler.scale(loss).backward()\n",
    "                scaler.step(optimizer)\n",
    "                scaler.update()\n",
    "                \n",
    "                running_loss += loss.item()\n",
    "            \n",
    "            train_losses.append(running_loss / len(train_loader))\n",
    "            \n",
    "            model.eval()\n",
    "            val_loss = 0.0\n",
    "            with torch.no_grad():\n",
    "                for inputs, targets in val_loader:\n",
    "                    inputs, targets = inputs.to(device, non_blocking=True), targets.to(device, non_blocking=True)\n",
    "                    with autocast():\n",
    "                        outputs = model(inputs)\n",
    "                        loss = criterion(outputs, targets)\n",
    "                    val_loss += loss.item()\n",
    "            \n",
    "            val_losses.append(val_loss / len(val_loader))\n",
    "            scheduler.step(val_loss)\n",
    "            \n",
    "            print(f\"Label {label}, Fold {fold+1}, Epoch {epoch+1}/{num_epochs}, Train Loss: {train_losses[-1]:.4f}, Val Loss: {val_losses[-1]:.4f}\")"
   ],
   "id": "bf4e58b7380ca014",
   "execution_count": 7,
   "outputs": []
  },
  {
   "metadata": {
    "ExecuteTime": {
     "end_time": "2024-05-31T14:29:27.465187Z",
     "start_time": "2024-05-31T14:29:27.465187Z"
    }
   },
   "cell_type": "code",
   "source": [
    "plt.figure(figsize=(10, 5))\n",
    "plt.plot(range(1, len(train_losses) + 1), train_losses, label='Train Loss')\n",
    "plt.plot(range(1, len(val_losses) + 1), val_losses, label='Val Loss')\n",
    "plt.xlabel('Epochs')\n",
    "plt.ylabel('Loss')\n",
    "plt.legend()\n",
    "plt.title('Training and Validation Loss')\n",
    "plt.show()"
   ],
   "id": "35626c92e0203196",
   "execution_count": null,
   "outputs": []
  },
  {
   "metadata": {},
   "cell_type": "code",
   "source": "",
   "id": "bea5ea13fa0296ee",
   "execution_count": null,
   "outputs": []
  }
 ],
 "metadata": {
  "kernelspec": {
   "display_name": "Python 3",
   "language": "python",
   "name": "python3"
  },
  "language_info": {
   "codemirror_mode": {
    "name": "ipython",
    "version": 2
   },
   "file_extension": ".py",
   "mimetype": "text/x-python",
   "name": "python",
   "nbconvert_exporter": "python",
   "pygments_lexer": "ipython2",
   "version": "2.7.6"
  }
 },
 "nbformat": 4,
 "nbformat_minor": 5
}
